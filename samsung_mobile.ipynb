{
 "cells": [
  {
   "cell_type": "raw",
   "id": "bb7c302a-9061-4fc8-b79d-0b6cb1494675",
   "metadata": {},
   "source": [
    "#Exploratory_Data_Analysis"
   ]
  },
  {
   "cell_type": "code",
   "execution_count": 20,
   "id": "b04e689d-9817-4f97-96fe-183e5a9ac207",
   "metadata": {},
   "outputs": [],
   "source": [
    "import numpy as np\n",
    "import pandas as pd\n",
    "import matplotlib.pyplot as plt\n",
    "import seaborn as sns"
   ]
  },
  {
   "cell_type": "code",
   "execution_count": 2,
   "id": "dee29660-6213-473c-b88c-1551da133752",
   "metadata": {},
   "outputs": [],
   "source": [
    "data = pd.read_csv(\"samsung_mobile_dataset.csv\")"
   ]
  },
  {
   "cell_type": "code",
   "execution_count": 3,
   "id": "35aec25f-93e3-4268-83d1-e0beefce225d",
   "metadata": {},
   "outputs": [
    {
     "data": {
      "text/html": [
       "<div>\n",
       "<style scoped>\n",
       "    .dataframe tbody tr th:only-of-type {\n",
       "        vertical-align: middle;\n",
       "    }\n",
       "\n",
       "    .dataframe tbody tr th {\n",
       "        vertical-align: top;\n",
       "    }\n",
       "\n",
       "    .dataframe thead th {\n",
       "        text-align: right;\n",
       "    }\n",
       "</style>\n",
       "<table border=\"1\" class=\"dataframe\">\n",
       "  <thead>\n",
       "    <tr style=\"text-align: right;\">\n",
       "      <th></th>\n",
       "      <th>Year</th>\n",
       "      <th>Quarter</th>\n",
       "      <th>Product Model</th>\n",
       "      <th>5G Capability</th>\n",
       "      <th>Units Sold</th>\n",
       "      <th>Revenue ($)</th>\n",
       "      <th>Market Share (%)</th>\n",
       "      <th>Regional 5G Coverage (%)</th>\n",
       "      <th>5G Subscribers (millions)</th>\n",
       "      <th>Avg 5G Speed (Mbps)</th>\n",
       "      <th>Preference for 5G (%)</th>\n",
       "      <th>Region</th>\n",
       "    </tr>\n",
       "  </thead>\n",
       "  <tbody>\n",
       "    <tr>\n",
       "      <th>0</th>\n",
       "      <td>2019</td>\n",
       "      <td>Q1</td>\n",
       "      <td>Galaxy S10</td>\n",
       "      <td>No</td>\n",
       "      <td>26396</td>\n",
       "      <td>4.212951e+06</td>\n",
       "      <td>1.04</td>\n",
       "      <td>57.36</td>\n",
       "      <td>39.55</td>\n",
       "      <td>293.10</td>\n",
       "      <td>55.87</td>\n",
       "      <td>Asia-Pacific</td>\n",
       "    </tr>\n",
       "    <tr>\n",
       "      <th>1</th>\n",
       "      <td>2019</td>\n",
       "      <td>Q1</td>\n",
       "      <td>Galaxy Note10</td>\n",
       "      <td>No</td>\n",
       "      <td>25671</td>\n",
       "      <td>7.240266e+06</td>\n",
       "      <td>2.82</td>\n",
       "      <td>85.80</td>\n",
       "      <td>42.58</td>\n",
       "      <td>67.46</td>\n",
       "      <td>37.26</td>\n",
       "      <td>Latin America</td>\n",
       "    </tr>\n",
       "    <tr>\n",
       "      <th>2</th>\n",
       "      <td>2019</td>\n",
       "      <td>Q1</td>\n",
       "      <td>Galaxy S20</td>\n",
       "      <td>No</td>\n",
       "      <td>16573</td>\n",
       "      <td>2.560833e+07</td>\n",
       "      <td>-0.03</td>\n",
       "      <td>47.02</td>\n",
       "      <td>3.78</td>\n",
       "      <td>77.25</td>\n",
       "      <td>84.66</td>\n",
       "      <td>Middle East &amp; Africa</td>\n",
       "    </tr>\n",
       "    <tr>\n",
       "      <th>3</th>\n",
       "      <td>2019</td>\n",
       "      <td>Q1</td>\n",
       "      <td>Galaxy Note20</td>\n",
       "      <td>No</td>\n",
       "      <td>7177</td>\n",
       "      <td>2.198442e+07</td>\n",
       "      <td>0.84</td>\n",
       "      <td>25.70</td>\n",
       "      <td>23.41</td>\n",
       "      <td>105.27</td>\n",
       "      <td>40.03</td>\n",
       "      <td>North America</td>\n",
       "    </tr>\n",
       "    <tr>\n",
       "      <th>4</th>\n",
       "      <td>2019</td>\n",
       "      <td>Q1</td>\n",
       "      <td>Galaxy S21</td>\n",
       "      <td>No</td>\n",
       "      <td>45633</td>\n",
       "      <td>1.634244e+07</td>\n",
       "      <td>2.36</td>\n",
       "      <td>89.13</td>\n",
       "      <td>44.43</td>\n",
       "      <td>206.17</td>\n",
       "      <td>76.88</td>\n",
       "      <td>Latin America</td>\n",
       "    </tr>\n",
       "  </tbody>\n",
       "</table>\n",
       "</div>"
      ],
      "text/plain": [
       "   Year Quarter  Product Model 5G Capability  Units Sold   Revenue ($)  \\\n",
       "0  2019      Q1     Galaxy S10            No       26396  4.212951e+06   \n",
       "1  2019      Q1  Galaxy Note10            No       25671  7.240266e+06   \n",
       "2  2019      Q1     Galaxy S20            No       16573  2.560833e+07   \n",
       "3  2019      Q1  Galaxy Note20            No        7177  2.198442e+07   \n",
       "4  2019      Q1     Galaxy S21            No       45633  1.634244e+07   \n",
       "\n",
       "   Market Share (%)  Regional 5G Coverage (%)  5G Subscribers (millions)  \\\n",
       "0              1.04                     57.36                      39.55   \n",
       "1              2.82                     85.80                      42.58   \n",
       "2             -0.03                     47.02                       3.78   \n",
       "3              0.84                     25.70                      23.41   \n",
       "4              2.36                     89.13                      44.43   \n",
       "\n",
       "   Avg 5G Speed (Mbps)  Preference for 5G (%)                Region  \n",
       "0               293.10                  55.87          Asia-Pacific  \n",
       "1                67.46                  37.26         Latin America  \n",
       "2                77.25                  84.66  Middle East & Africa  \n",
       "3               105.27                  40.03         North America  \n",
       "4               206.17                  76.88         Latin America  "
      ]
     },
     "execution_count": 3,
     "metadata": {},
     "output_type": "execute_result"
    }
   ],
   "source": [
    "data.head()"
   ]
  },
  {
   "cell_type": "code",
   "execution_count": 4,
   "id": "5cc722cf-199f-4fda-9b09-c187949a44b9",
   "metadata": {},
   "outputs": [
    {
     "data": {
      "text/html": [
       "<div>\n",
       "<style scoped>\n",
       "    .dataframe tbody tr th:only-of-type {\n",
       "        vertical-align: middle;\n",
       "    }\n",
       "\n",
       "    .dataframe tbody tr th {\n",
       "        vertical-align: top;\n",
       "    }\n",
       "\n",
       "    .dataframe thead th {\n",
       "        text-align: right;\n",
       "    }\n",
       "</style>\n",
       "<table border=\"1\" class=\"dataframe\">\n",
       "  <thead>\n",
       "    <tr style=\"text-align: right;\">\n",
       "      <th></th>\n",
       "      <th>Year</th>\n",
       "      <th>Quarter</th>\n",
       "      <th>Product Model</th>\n",
       "      <th>5G Capability</th>\n",
       "      <th>Units Sold</th>\n",
       "      <th>Revenue ($)</th>\n",
       "      <th>Market Share (%)</th>\n",
       "      <th>Regional 5G Coverage (%)</th>\n",
       "      <th>5G Subscribers (millions)</th>\n",
       "      <th>Avg 5G Speed (Mbps)</th>\n",
       "      <th>Preference for 5G (%)</th>\n",
       "      <th>Region</th>\n",
       "    </tr>\n",
       "  </thead>\n",
       "  <tbody>\n",
       "    <tr>\n",
       "      <th>995</th>\n",
       "      <td>2023</td>\n",
       "      <td>Q4</td>\n",
       "      <td>Galaxy S22 5G</td>\n",
       "      <td>Yes</td>\n",
       "      <td>36216</td>\n",
       "      <td>2.995937e+07</td>\n",
       "      <td>3.82</td>\n",
       "      <td>70.59</td>\n",
       "      <td>46.92</td>\n",
       "      <td>177.43</td>\n",
       "      <td>63.86</td>\n",
       "      <td>Latin America</td>\n",
       "    </tr>\n",
       "    <tr>\n",
       "      <th>996</th>\n",
       "      <td>2022</td>\n",
       "      <td>Q2</td>\n",
       "      <td>Galaxy S21</td>\n",
       "      <td>No</td>\n",
       "      <td>33806</td>\n",
       "      <td>2.369938e+07</td>\n",
       "      <td>-0.23</td>\n",
       "      <td>77.31</td>\n",
       "      <td>47.51</td>\n",
       "      <td>129.70</td>\n",
       "      <td>78.41</td>\n",
       "      <td>North America</td>\n",
       "    </tr>\n",
       "    <tr>\n",
       "      <th>997</th>\n",
       "      <td>2022</td>\n",
       "      <td>Q1</td>\n",
       "      <td>Galaxy S10</td>\n",
       "      <td>No</td>\n",
       "      <td>23678</td>\n",
       "      <td>2.330203e+07</td>\n",
       "      <td>0.58</td>\n",
       "      <td>45.61</td>\n",
       "      <td>43.79</td>\n",
       "      <td>156.56</td>\n",
       "      <td>72.06</td>\n",
       "      <td>Europe</td>\n",
       "    </tr>\n",
       "    <tr>\n",
       "      <th>998</th>\n",
       "      <td>2023</td>\n",
       "      <td>Q4</td>\n",
       "      <td>Galaxy Note10</td>\n",
       "      <td>No</td>\n",
       "      <td>35697</td>\n",
       "      <td>1.946256e+07</td>\n",
       "      <td>2.49</td>\n",
       "      <td>36.55</td>\n",
       "      <td>36.44</td>\n",
       "      <td>236.39</td>\n",
       "      <td>47.11</td>\n",
       "      <td>North America</td>\n",
       "    </tr>\n",
       "    <tr>\n",
       "      <th>999</th>\n",
       "      <td>2020</td>\n",
       "      <td>Q4</td>\n",
       "      <td>Galaxy Note20</td>\n",
       "      <td>No</td>\n",
       "      <td>7473</td>\n",
       "      <td>1.962177e+07</td>\n",
       "      <td>3.88</td>\n",
       "      <td>74.66</td>\n",
       "      <td>27.55</td>\n",
       "      <td>177.22</td>\n",
       "      <td>72.36</td>\n",
       "      <td>North America</td>\n",
       "    </tr>\n",
       "  </tbody>\n",
       "</table>\n",
       "</div>"
      ],
      "text/plain": [
       "     Year Quarter  Product Model 5G Capability  Units Sold   Revenue ($)  \\\n",
       "995  2023      Q4  Galaxy S22 5G           Yes       36216  2.995937e+07   \n",
       "996  2022      Q2     Galaxy S21            No       33806  2.369938e+07   \n",
       "997  2022      Q1     Galaxy S10            No       23678  2.330203e+07   \n",
       "998  2023      Q4  Galaxy Note10            No       35697  1.946256e+07   \n",
       "999  2020      Q4  Galaxy Note20            No        7473  1.962177e+07   \n",
       "\n",
       "     Market Share (%)  Regional 5G Coverage (%)  5G Subscribers (millions)  \\\n",
       "995              3.82                     70.59                      46.92   \n",
       "996             -0.23                     77.31                      47.51   \n",
       "997              0.58                     45.61                      43.79   \n",
       "998              2.49                     36.55                      36.44   \n",
       "999              3.88                     74.66                      27.55   \n",
       "\n",
       "     Avg 5G Speed (Mbps)  Preference for 5G (%)         Region  \n",
       "995               177.43                  63.86  Latin America  \n",
       "996               129.70                  78.41  North America  \n",
       "997               156.56                  72.06         Europe  \n",
       "998               236.39                  47.11  North America  \n",
       "999               177.22                  72.36  North America  "
      ]
     },
     "execution_count": 4,
     "metadata": {},
     "output_type": "execute_result"
    }
   ],
   "source": [
    "data.tail()"
   ]
  },
  {
   "cell_type": "code",
   "execution_count": 5,
   "id": "4467e1eb-5e02-4179-8240-ebe72ec09365",
   "metadata": {},
   "outputs": [
    {
     "data": {
      "text/plain": [
       "(1000, 12)"
      ]
     },
     "execution_count": 5,
     "metadata": {},
     "output_type": "execute_result"
    }
   ],
   "source": [
    "# Shape of the dataset\n",
    "data.shape"
   ]
  },
  {
   "cell_type": "code",
   "execution_count": 8,
   "id": "fc5605ff-2a13-458c-80a6-e4c0f1f4f3e5",
   "metadata": {},
   "outputs": [
    {
     "name": "stdout",
     "output_type": "stream",
     "text": [
      "Data Information\n",
      "<class 'pandas.core.frame.DataFrame'>\n",
      "RangeIndex: 1000 entries, 0 to 999\n",
      "Data columns (total 12 columns):\n",
      " #   Column                     Non-Null Count  Dtype  \n",
      "---  ------                     --------------  -----  \n",
      " 0   Year                       1000 non-null   int64  \n",
      " 1   Quarter                    1000 non-null   object \n",
      " 2   Product Model              1000 non-null   object \n",
      " 3   5G Capability              1000 non-null   object \n",
      " 4   Units Sold                 1000 non-null   int64  \n",
      " 5   Revenue ($)                1000 non-null   float64\n",
      " 6   Market Share (%)           1000 non-null   float64\n",
      " 7   Regional 5G Coverage (%)   1000 non-null   float64\n",
      " 8   5G Subscribers (millions)  1000 non-null   float64\n",
      " 9   Avg 5G Speed (Mbps)        1000 non-null   float64\n",
      " 10  Preference for 5G (%)      1000 non-null   float64\n",
      " 11  Region                     1000 non-null   object \n",
      "dtypes: float64(6), int64(2), object(4)\n",
      "memory usage: 93.9+ KB\n"
     ]
    }
   ],
   "source": [
    "# Data Information\n",
    "print(\"Data Information\")\n",
    "data.info()"
   ]
  },
  {
   "cell_type": "code",
   "execution_count": 9,
   "id": "3c8bba4f-7e2f-4272-bb75-0355b7b9a05a",
   "metadata": {},
   "outputs": [
    {
     "data": {
      "text/html": [
       "<div>\n",
       "<style scoped>\n",
       "    .dataframe tbody tr th:only-of-type {\n",
       "        vertical-align: middle;\n",
       "    }\n",
       "\n",
       "    .dataframe tbody tr th {\n",
       "        vertical-align: top;\n",
       "    }\n",
       "\n",
       "    .dataframe thead th {\n",
       "        text-align: right;\n",
       "    }\n",
       "</style>\n",
       "<table border=\"1\" class=\"dataframe\">\n",
       "  <thead>\n",
       "    <tr style=\"text-align: right;\">\n",
       "      <th></th>\n",
       "      <th>Year</th>\n",
       "      <th>Units Sold</th>\n",
       "      <th>Revenue ($)</th>\n",
       "      <th>Market Share (%)</th>\n",
       "      <th>Regional 5G Coverage (%)</th>\n",
       "      <th>5G Subscribers (millions)</th>\n",
       "      <th>Avg 5G Speed (Mbps)</th>\n",
       "      <th>Preference for 5G (%)</th>\n",
       "    </tr>\n",
       "  </thead>\n",
       "  <tbody>\n",
       "    <tr>\n",
       "      <th>count</th>\n",
       "      <td>1000.000000</td>\n",
       "      <td>1000.000000</td>\n",
       "      <td>1.000000e+03</td>\n",
       "      <td>1000.000000</td>\n",
       "      <td>1000.000000</td>\n",
       "      <td>1000.000000</td>\n",
       "      <td>1000.000000</td>\n",
       "      <td>1000.00000</td>\n",
       "    </tr>\n",
       "    <tr>\n",
       "      <th>mean</th>\n",
       "      <td>2021.456000</td>\n",
       "      <td>32842.990000</td>\n",
       "      <td>3.019733e+07</td>\n",
       "      <td>3.723570</td>\n",
       "      <td>66.889720</td>\n",
       "      <td>30.152080</td>\n",
       "      <td>179.225560</td>\n",
       "      <td>67.14291</td>\n",
       "    </tr>\n",
       "    <tr>\n",
       "      <th>std</th>\n",
       "      <td>1.700281</td>\n",
       "      <td>16039.770572</td>\n",
       "      <td>1.837941e+07</td>\n",
       "      <td>1.991108</td>\n",
       "      <td>19.254095</td>\n",
       "      <td>14.537781</td>\n",
       "      <td>70.470934</td>\n",
       "      <td>15.75925</td>\n",
       "    </tr>\n",
       "    <tr>\n",
       "      <th>min</th>\n",
       "      <td>2019.000000</td>\n",
       "      <td>5309.000000</td>\n",
       "      <td>2.987436e+06</td>\n",
       "      <td>-0.490000</td>\n",
       "      <td>25.340000</td>\n",
       "      <td>-0.890000</td>\n",
       "      <td>50.370000</td>\n",
       "      <td>37.14000</td>\n",
       "    </tr>\n",
       "    <tr>\n",
       "      <th>25%</th>\n",
       "      <td>2020.000000</td>\n",
       "      <td>19327.250000</td>\n",
       "      <td>1.460749e+07</td>\n",
       "      <td>2.635000</td>\n",
       "      <td>50.400000</td>\n",
       "      <td>18.412500</td>\n",
       "      <td>120.410000</td>\n",
       "      <td>53.26750</td>\n",
       "    </tr>\n",
       "    <tr>\n",
       "      <th>50%</th>\n",
       "      <td>2021.000000</td>\n",
       "      <td>33689.000000</td>\n",
       "      <td>2.801200e+07</td>\n",
       "      <td>3.760000</td>\n",
       "      <td>67.050000</td>\n",
       "      <td>29.915000</td>\n",
       "      <td>177.390000</td>\n",
       "      <td>66.96000</td>\n",
       "    </tr>\n",
       "    <tr>\n",
       "      <th>75%</th>\n",
       "      <td>2023.000000</td>\n",
       "      <td>43911.000000</td>\n",
       "      <td>4.180391e+07</td>\n",
       "      <td>5.282500</td>\n",
       "      <td>83.210000</td>\n",
       "      <td>44.360000</td>\n",
       "      <td>238.860000</td>\n",
       "      <td>80.99000</td>\n",
       "    </tr>\n",
       "    <tr>\n",
       "      <th>max</th>\n",
       "      <td>2024.000000</td>\n",
       "      <td>64883.000000</td>\n",
       "      <td>8.426494e+07</td>\n",
       "      <td>6.950000</td>\n",
       "      <td>103.920000</td>\n",
       "      <td>54.940000</td>\n",
       "      <td>298.700000</td>\n",
       "      <td>94.84000</td>\n",
       "    </tr>\n",
       "  </tbody>\n",
       "</table>\n",
       "</div>"
      ],
      "text/plain": [
       "              Year    Units Sold   Revenue ($)  Market Share (%)  \\\n",
       "count  1000.000000   1000.000000  1.000000e+03       1000.000000   \n",
       "mean   2021.456000  32842.990000  3.019733e+07          3.723570   \n",
       "std       1.700281  16039.770572  1.837941e+07          1.991108   \n",
       "min    2019.000000   5309.000000  2.987436e+06         -0.490000   \n",
       "25%    2020.000000  19327.250000  1.460749e+07          2.635000   \n",
       "50%    2021.000000  33689.000000  2.801200e+07          3.760000   \n",
       "75%    2023.000000  43911.000000  4.180391e+07          5.282500   \n",
       "max    2024.000000  64883.000000  8.426494e+07          6.950000   \n",
       "\n",
       "       Regional 5G Coverage (%)  5G Subscribers (millions)  \\\n",
       "count               1000.000000                1000.000000   \n",
       "mean                  66.889720                  30.152080   \n",
       "std                   19.254095                  14.537781   \n",
       "min                   25.340000                  -0.890000   \n",
       "25%                   50.400000                  18.412500   \n",
       "50%                   67.050000                  29.915000   \n",
       "75%                   83.210000                  44.360000   \n",
       "max                  103.920000                  54.940000   \n",
       "\n",
       "       Avg 5G Speed (Mbps)  Preference for 5G (%)  \n",
       "count          1000.000000             1000.00000  \n",
       "mean            179.225560               67.14291  \n",
       "std              70.470934               15.75925  \n",
       "min              50.370000               37.14000  \n",
       "25%             120.410000               53.26750  \n",
       "50%             177.390000               66.96000  \n",
       "75%             238.860000               80.99000  \n",
       "max             298.700000               94.84000  "
      ]
     },
     "execution_count": 9,
     "metadata": {},
     "output_type": "execute_result"
    }
   ],
   "source": [
    "data.describe()"
   ]
  },
  {
   "cell_type": "code",
   "execution_count": 11,
   "id": "43f2b125-7bcd-4260-8171-0981b8133804",
   "metadata": {},
   "outputs": [
    {
     "data": {
      "text/plain": [
       "Year                         0\n",
       "Quarter                      0\n",
       "Product Model                0\n",
       "5G Capability                0\n",
       "Units Sold                   0\n",
       "Revenue ($)                  0\n",
       "Market Share (%)             0\n",
       "Regional 5G Coverage (%)     0\n",
       "5G Subscribers (millions)    0\n",
       "Avg 5G Speed (Mbps)          0\n",
       "Preference for 5G (%)        0\n",
       "Region                       0\n",
       "dtype: int64"
      ]
     },
     "execution_count": 11,
     "metadata": {},
     "output_type": "execute_result"
    }
   ],
   "source": [
    "# Checking for the null values\n",
    "\n",
    "data.isnull().sum()"
   ]
  },
  {
   "cell_type": "code",
   "execution_count": 17,
   "id": "4d8fb6d6-6f42-4703-b5b5-990bab20b03d",
   "metadata": {},
   "outputs": [
    {
     "name": "stdout",
     "output_type": "stream",
     "text": [
      "Number of Duplicated Rows:  (640, 12)\n"
     ]
    }
   ],
   "source": [
    "# Checking for the duplicates\n",
    "\n",
    "data_duplicated = data[data.duplicated()]\n",
    "\n",
    "print(\"Number of Duplicated Rows: \", data_duplicated.shape)"
   ]
  },
  {
   "cell_type": "code",
   "execution_count": 18,
   "id": "f766473a-ea9d-4483-8011-6fc6538a1a36",
   "metadata": {},
   "outputs": [
    {
     "data": {
      "text/html": [
       "<div>\n",
       "<style scoped>\n",
       "    .dataframe tbody tr th:only-of-type {\n",
       "        vertical-align: middle;\n",
       "    }\n",
       "\n",
       "    .dataframe tbody tr th {\n",
       "        vertical-align: top;\n",
       "    }\n",
       "\n",
       "    .dataframe thead th {\n",
       "        text-align: right;\n",
       "    }\n",
       "</style>\n",
       "<table border=\"1\" class=\"dataframe\">\n",
       "  <thead>\n",
       "    <tr style=\"text-align: right;\">\n",
       "      <th></th>\n",
       "      <th>Year</th>\n",
       "      <th>Quarter</th>\n",
       "      <th>Product Model</th>\n",
       "      <th>5G Capability</th>\n",
       "      <th>Units Sold</th>\n",
       "      <th>Revenue ($)</th>\n",
       "      <th>Market Share (%)</th>\n",
       "      <th>Regional 5G Coverage (%)</th>\n",
       "      <th>5G Subscribers (millions)</th>\n",
       "      <th>Avg 5G Speed (Mbps)</th>\n",
       "      <th>Preference for 5G (%)</th>\n",
       "      <th>Region</th>\n",
       "    </tr>\n",
       "  </thead>\n",
       "  <tbody>\n",
       "    <tr>\n",
       "      <th>0</th>\n",
       "      <td>2019</td>\n",
       "      <td>Q1</td>\n",
       "      <td>Galaxy S10</td>\n",
       "      <td>No</td>\n",
       "      <td>26396</td>\n",
       "      <td>4.212951e+06</td>\n",
       "      <td>1.04</td>\n",
       "      <td>57.36</td>\n",
       "      <td>39.55</td>\n",
       "      <td>293.10</td>\n",
       "      <td>55.87</td>\n",
       "      <td>Asia-Pacific</td>\n",
       "    </tr>\n",
       "    <tr>\n",
       "      <th>1</th>\n",
       "      <td>2019</td>\n",
       "      <td>Q1</td>\n",
       "      <td>Galaxy Note10</td>\n",
       "      <td>No</td>\n",
       "      <td>25671</td>\n",
       "      <td>7.240266e+06</td>\n",
       "      <td>2.82</td>\n",
       "      <td>85.80</td>\n",
       "      <td>42.58</td>\n",
       "      <td>67.46</td>\n",
       "      <td>37.26</td>\n",
       "      <td>Latin America</td>\n",
       "    </tr>\n",
       "    <tr>\n",
       "      <th>2</th>\n",
       "      <td>2019</td>\n",
       "      <td>Q1</td>\n",
       "      <td>Galaxy S20</td>\n",
       "      <td>No</td>\n",
       "      <td>16573</td>\n",
       "      <td>2.560833e+07</td>\n",
       "      <td>-0.03</td>\n",
       "      <td>47.02</td>\n",
       "      <td>3.78</td>\n",
       "      <td>77.25</td>\n",
       "      <td>84.66</td>\n",
       "      <td>Middle East &amp; Africa</td>\n",
       "    </tr>\n",
       "    <tr>\n",
       "      <th>3</th>\n",
       "      <td>2019</td>\n",
       "      <td>Q1</td>\n",
       "      <td>Galaxy Note20</td>\n",
       "      <td>No</td>\n",
       "      <td>7177</td>\n",
       "      <td>2.198442e+07</td>\n",
       "      <td>0.84</td>\n",
       "      <td>25.70</td>\n",
       "      <td>23.41</td>\n",
       "      <td>105.27</td>\n",
       "      <td>40.03</td>\n",
       "      <td>North America</td>\n",
       "    </tr>\n",
       "    <tr>\n",
       "      <th>4</th>\n",
       "      <td>2019</td>\n",
       "      <td>Q1</td>\n",
       "      <td>Galaxy S21</td>\n",
       "      <td>No</td>\n",
       "      <td>45633</td>\n",
       "      <td>1.634244e+07</td>\n",
       "      <td>2.36</td>\n",
       "      <td>89.13</td>\n",
       "      <td>44.43</td>\n",
       "      <td>206.17</td>\n",
       "      <td>76.88</td>\n",
       "      <td>Latin America</td>\n",
       "    </tr>\n",
       "  </tbody>\n",
       "</table>\n",
       "</div>"
      ],
      "text/plain": [
       "   Year Quarter  Product Model 5G Capability  Units Sold   Revenue ($)  \\\n",
       "0  2019      Q1     Galaxy S10            No       26396  4.212951e+06   \n",
       "1  2019      Q1  Galaxy Note10            No       25671  7.240266e+06   \n",
       "2  2019      Q1     Galaxy S20            No       16573  2.560833e+07   \n",
       "3  2019      Q1  Galaxy Note20            No        7177  2.198442e+07   \n",
       "4  2019      Q1     Galaxy S21            No       45633  1.634244e+07   \n",
       "\n",
       "   Market Share (%)  Regional 5G Coverage (%)  5G Subscribers (millions)  \\\n",
       "0              1.04                     57.36                      39.55   \n",
       "1              2.82                     85.80                      42.58   \n",
       "2             -0.03                     47.02                       3.78   \n",
       "3              0.84                     25.70                      23.41   \n",
       "4              2.36                     89.13                      44.43   \n",
       "\n",
       "   Avg 5G Speed (Mbps)  Preference for 5G (%)                Region  \n",
       "0               293.10                  55.87          Asia-Pacific  \n",
       "1                67.46                  37.26         Latin America  \n",
       "2                77.25                  84.66  Middle East & Africa  \n",
       "3               105.27                  40.03         North America  \n",
       "4               206.17                  76.88         Latin America  "
      ]
     },
     "execution_count": 18,
     "metadata": {},
     "output_type": "execute_result"
    }
   ],
   "source": [
    "# Removing Duplicates\n",
    "\n",
    "data = data.drop_duplicates()\n",
    "data.head()"
   ]
  },
  {
   "cell_type": "code",
   "execution_count": 53,
   "id": "7b3defbc-fb9d-45e0-8b86-d369027927af",
   "metadata": {},
   "outputs": [],
   "source": [
    "def revenue(value):\n",
    "    value = value/100000\n",
    "    return value\n",
    "data[\"Revenue (in laks $)\"] = data[\"Revenue ($)\"].apply(revenue)"
   ]
  },
  {
   "cell_type": "code",
   "execution_count": 58,
   "id": "0cd3b435-3fe2-40a9-947f-c6c890f733d4",
   "metadata": {},
   "outputs": [
    {
     "data": {
      "text/html": [
       "<div>\n",
       "<style scoped>\n",
       "    .dataframe tbody tr th:only-of-type {\n",
       "        vertical-align: middle;\n",
       "    }\n",
       "\n",
       "    .dataframe tbody tr th {\n",
       "        vertical-align: top;\n",
       "    }\n",
       "\n",
       "    .dataframe thead th {\n",
       "        text-align: right;\n",
       "    }\n",
       "</style>\n",
       "<table border=\"1\" class=\"dataframe\">\n",
       "  <thead>\n",
       "    <tr style=\"text-align: right;\">\n",
       "      <th></th>\n",
       "      <th>Year</th>\n",
       "      <th>Quarter</th>\n",
       "      <th>Product Model</th>\n",
       "      <th>5G Capability</th>\n",
       "      <th>Units Sold</th>\n",
       "      <th>Market Share (%)</th>\n",
       "      <th>Regional 5G Coverage (%)</th>\n",
       "      <th>5G Subscribers (millions)</th>\n",
       "      <th>Avg 5G Speed (Mbps)</th>\n",
       "      <th>Preference for 5G (%)</th>\n",
       "      <th>Region</th>\n",
       "      <th>Revenue (in laks $)</th>\n",
       "    </tr>\n",
       "  </thead>\n",
       "  <tbody>\n",
       "    <tr>\n",
       "      <th>0</th>\n",
       "      <td>2019</td>\n",
       "      <td>Q1</td>\n",
       "      <td>Galaxy S10</td>\n",
       "      <td>No</td>\n",
       "      <td>26396</td>\n",
       "      <td>1.04</td>\n",
       "      <td>57.36</td>\n",
       "      <td>39.55</td>\n",
       "      <td>293.10</td>\n",
       "      <td>55.87</td>\n",
       "      <td>Asia-Pacific</td>\n",
       "      <td>42.129510</td>\n",
       "    </tr>\n",
       "    <tr>\n",
       "      <th>1</th>\n",
       "      <td>2019</td>\n",
       "      <td>Q1</td>\n",
       "      <td>Galaxy Note10</td>\n",
       "      <td>No</td>\n",
       "      <td>25671</td>\n",
       "      <td>2.82</td>\n",
       "      <td>85.80</td>\n",
       "      <td>42.58</td>\n",
       "      <td>67.46</td>\n",
       "      <td>37.26</td>\n",
       "      <td>Latin America</td>\n",
       "      <td>72.402656</td>\n",
       "    </tr>\n",
       "    <tr>\n",
       "      <th>2</th>\n",
       "      <td>2019</td>\n",
       "      <td>Q1</td>\n",
       "      <td>Galaxy S20</td>\n",
       "      <td>No</td>\n",
       "      <td>16573</td>\n",
       "      <td>-0.03</td>\n",
       "      <td>47.02</td>\n",
       "      <td>3.78</td>\n",
       "      <td>77.25</td>\n",
       "      <td>84.66</td>\n",
       "      <td>Middle East &amp; Africa</td>\n",
       "      <td>256.083315</td>\n",
       "    </tr>\n",
       "    <tr>\n",
       "      <th>3</th>\n",
       "      <td>2019</td>\n",
       "      <td>Q1</td>\n",
       "      <td>Galaxy Note20</td>\n",
       "      <td>No</td>\n",
       "      <td>7177</td>\n",
       "      <td>0.84</td>\n",
       "      <td>25.70</td>\n",
       "      <td>23.41</td>\n",
       "      <td>105.27</td>\n",
       "      <td>40.03</td>\n",
       "      <td>North America</td>\n",
       "      <td>219.844158</td>\n",
       "    </tr>\n",
       "    <tr>\n",
       "      <th>4</th>\n",
       "      <td>2019</td>\n",
       "      <td>Q1</td>\n",
       "      <td>Galaxy S21</td>\n",
       "      <td>No</td>\n",
       "      <td>45633</td>\n",
       "      <td>2.36</td>\n",
       "      <td>89.13</td>\n",
       "      <td>44.43</td>\n",
       "      <td>206.17</td>\n",
       "      <td>76.88</td>\n",
       "      <td>Latin America</td>\n",
       "      <td>163.424375</td>\n",
       "    </tr>\n",
       "  </tbody>\n",
       "</table>\n",
       "</div>"
      ],
      "text/plain": [
       "   Year Quarter  Product Model 5G Capability  Units Sold  Market Share (%)  \\\n",
       "0  2019      Q1     Galaxy S10            No       26396              1.04   \n",
       "1  2019      Q1  Galaxy Note10            No       25671              2.82   \n",
       "2  2019      Q1     Galaxy S20            No       16573             -0.03   \n",
       "3  2019      Q1  Galaxy Note20            No        7177              0.84   \n",
       "4  2019      Q1     Galaxy S21            No       45633              2.36   \n",
       "\n",
       "   Regional 5G Coverage (%)  5G Subscribers (millions)  Avg 5G Speed (Mbps)  \\\n",
       "0                     57.36                      39.55               293.10   \n",
       "1                     85.80                      42.58                67.46   \n",
       "2                     47.02                       3.78                77.25   \n",
       "3                     25.70                      23.41               105.27   \n",
       "4                     89.13                      44.43               206.17   \n",
       "\n",
       "   Preference for 5G (%)                Region  Revenue (in laks $)  \n",
       "0                  55.87          Asia-Pacific            42.129510  \n",
       "1                  37.26         Latin America            72.402656  \n",
       "2                  84.66  Middle East & Africa           256.083315  \n",
       "3                  40.03         North America           219.844158  \n",
       "4                  76.88         Latin America           163.424375  "
      ]
     },
     "execution_count": 58,
     "metadata": {},
     "output_type": "execute_result"
    }
   ],
   "source": [
    "data = data.drop(columns = ['Revenue ($)'])\n",
    "data.head()"
   ]
  },
  {
   "cell_type": "code",
   "execution_count": 19,
   "id": "90431065-7678-487c-b7fd-1f9cdacef33a",
   "metadata": {},
   "outputs": [
    {
     "data": {
      "text/plain": [
       "Year                         360\n",
       "Quarter                      360\n",
       "Product Model                360\n",
       "5G Capability                360\n",
       "Units Sold                   360\n",
       "Revenue ($)                  360\n",
       "Market Share (%)             360\n",
       "Regional 5G Coverage (%)     360\n",
       "5G Subscribers (millions)    360\n",
       "Avg 5G Speed (Mbps)          360\n",
       "Preference for 5G (%)        360\n",
       "Region                       360\n",
       "dtype: int64"
      ]
     },
     "execution_count": 19,
     "metadata": {},
     "output_type": "execute_result"
    }
   ],
   "source": [
    "data.count()"
   ]
  },
  {
   "cell_type": "raw",
   "id": "09eb9d5e-847d-47b8-8373-e8c2eda18d03",
   "metadata": {},
   "source": [
    "Checking for Outliers"
   ]
  },
  {
   "cell_type": "code",
   "execution_count": 24,
   "id": "e21083ff-8e3a-4f73-a470-11bb186a9ea5",
   "metadata": {},
   "outputs": [
    {
     "data": {
      "image/png": "[encoded data removed]",
      "text/plain": [
       "<Figure size 640x480 with 1 Axes>"
      ]
     },
     "metadata": {},
     "output_type": "display_data"
    }
   ],
   "source": [
    "sns.boxplot(x = data['Units Sold'])\n",
    "plt.show()"
   ]
  },
  {
   "cell_type": "code",
   "execution_count": 59,
   "id": "e3b0709c-a55e-4c24-9125-6955ec39abf3",
   "metadata": {},
   "outputs": [
    {
     "data": {
      "image/png": "[encoded data removed]",
      "text/plain": [
       "<Figure size 640x480 with 1 Axes>"
      ]
     },
     "metadata": {},
     "output_type": "display_data"
    }
   ],
   "source": [
    "sns.boxplot(x = data['Revenue (in laks $)'])\n",
    "plt.show()"
   ]
  },
  {
   "cell_type": "code",
   "execution_count": 26,
   "id": "b9f3b513-4e89-40a9-9719-24e7732d8d08",
   "metadata": {},
   "outputs": [
    {
     "data": {
      "image/png": "[encoded data removed]",
      "text/plain": [
       "<Figure size 640x480 with 1 Axes>"
      ]
     },
     "metadata": {},
     "output_type": "display_data"
    }
   ],
   "source": [
    "sns.boxplot(x = data['Market Share (%)'])\n",
    "plt.show()"
   ]
  },
  {
   "cell_type": "code",
   "execution_count": 27,
   "id": "14790445-3e38-49e2-929f-c2f2cd8a4738",
   "metadata": {},
   "outputs": [
    {
     "data": {
      "image/png": "[encoded data removed]",
      "text/plain": [
       "<Figure size 640x480 with 1 Axes>"
      ]
     },
     "metadata": {},
     "output_type": "display_data"
    }
   ],
   "source": [
    "sns.boxplot(x = data['Regional 5G Coverage (%)'])\n",
    "plt.show()"
   ]
  },
  {
   "cell_type": "code",
   "execution_count": 28,
   "id": "b2d69f77-022b-4502-8a63-a1b8c2cde8aa",
   "metadata": {},
   "outputs": [
    {
     "data": {
      "image/png": "[encoded data removed]",
      "text/plain": [
       "<Figure size 640x480 with 1 Axes>"
      ]
     },
     "metadata": {},
     "output_type": "display_data"
    }
   ],
   "source": [
    "sns.boxplot(x = data['5G Subscribers (millions)'])\n",
    "plt.show()"
   ]
  },
  {
   "cell_type": "code",
   "execution_count": 29,
   "id": "e07c4c1a-03bb-4fd8-be95-486596c61b7a",
   "metadata": {},
   "outputs": [
    {
     "data": {
      "image/png": "[encoded data removed]",
      "text/plain": [
       "<Figure size 640x480 with 1 Axes>"
      ]
     },
     "metadata": {},
     "output_type": "display_data"
    }
   ],
   "source": [
    "sns.boxplot(x = data['Avg 5G Speed (Mbps)'])\n",
    "plt.show()"
   ]
  },
  {
   "cell_type": "code",
   "execution_count": 30,
   "id": "86e2748e-84cb-4e55-9b24-bd6a58b5a3c5",
   "metadata": {},
   "outputs": [
    {
     "data": {
      "image/png": "[encoded data removed]",
      "text/plain": [
       "<Figure size 640x480 with 1 Axes>"
      ]
     },
     "metadata": {},
     "output_type": "display_data"
    }
   ],
   "source": [
    "sns.boxplot(x = data['Preference for 5G (%)'])\n",
    "plt.show()"
   ]
  },
  {
   "cell_type": "code",
   "execution_count": 45,
   "id": "869944d6-fd40-4848-83f9-88f0a24c80da",
   "metadata": {},
   "outputs": [
    {
     "data": {
      "image/png": "[encoded data removed]",
      "text/plain": [
       "<Figure size 640x480 with 1 Axes>"
      ]
     },
     "metadata": {},
     "output_type": "display_data"
    }
   ],
   "source": [
    "plt.bar(data['Year'], data['Units Sold'])\n",
    "plt.title(\"Mobile Sold Per Year\")\n",
    "plt.xlabel(\"Year\")\n",
    "plt.ylabel(\"Unit Sold\")\n",
    "plt.show()"
   ]
  },
  {
   "cell_type": "code",
   "execution_count": 73,
   "id": "22f0c390-3476-4a98-9e9e-368244b1cb26",
   "metadata": {},
   "outputs": [
    {
     "data": {
      "image/png": "[encoded data removed]",
      "text/plain": [
       "<Figure size 300x500 with 1 Axes>"
      ]
     },
     "metadata": {},
     "output_type": "display_data"
    }
   ],
   "source": [
    "plt.figure(figsize = (3,5))\n",
    "plt.bar(data['5G Capability'], data['Units Sold'])\n",
    "plt.title(\"Network Demand\")\n",
    "plt.xlabel(\"5G\")\n",
    "plt.ylabel(\"Unit\")\n",
    "plt.show()"
   ]
  },
  {
   "cell_type": "code",
   "execution_count": 61,
   "id": "e1a4fbf4-dccf-487a-867c-da27e901820e",
   "metadata": {},
   "outputs": [
    {
     "data": {
      "image/png": "[encoded data removed]",
      "text/plain": [
       "<Figure size 640x480 with 1 Axes>"
      ]
     },
     "metadata": {},
     "output_type": "display_data"
    }
   ],
   "source": [
    "plt.bar(data['Year'], data['Revenue (in laks $)'])\n",
    "plt.title(\"Revenue Per Year\")\n",
    "plt.xlabel(\"Year\")\n",
    "plt.ylabel(\"Revenue (in laks $)\")\n",
    "plt.show()"
   ]
  },
  {
   "cell_type": "code",
   "execution_count": 70,
   "id": "9af2e330-b5b9-4d1e-ada0-240197868363",
   "metadata": {},
   "outputs": [
    {
     "data": {
      "image/png": "[encoded data removed]",
      "text/plain": [
       "<Figure size 1000x500 with 1 Axes>"
      ]
     },
     "metadata": {},
     "output_type": "display_data"
    }
   ],
   "source": [
    "plt.figure(figsize=(10,5))\n",
    "plt.bar(data['Region'], data['Revenue (in laks $)'])\n",
    "plt.title(\"Revenue Per Region\")\n",
    "plt.xlabel(\"Region\")\n",
    "plt.ylabel(\"Revenue (in laks $)\")\n",
    "plt.show()"
   ]
  },
  {
   "cell_type": "code",
   "execution_count": 72,
   "id": "acdbe272-c674-4557-9d57-f9bd2cd91fba",
   "metadata": {},
   "outputs": [
    {
     "data": {
      "image/png": "[encoded data removed]",
      "text/plain": [
       "<Figure size 1000x500 with 1 Axes>"
      ]
     },
     "metadata": {},
     "output_type": "display_data"
    }
   ],
   "source": [
    "plt.figure(figsize=(10,5))\n",
    "plt.bar(data['Region'], data['Units Sold'])\n",
    "plt.title(\"Unit Sold Per Region\")\n",
    "plt.xlabel(\"Region\")\n",
    "plt.ylabel(\"Units\")\n",
    "plt.show()"
   ]
  },
  {
   "cell_type": "code",
   "execution_count": 81,
   "id": "756e00c8-61f5-4e08-9c45-ef5ef345539d",
   "metadata": {},
   "outputs": [
    {
     "data": {
      "text/plain": [
       "5G Capability\n",
       "No     1.655667\n",
       "Yes    4.746417\n",
       "Name: Market Share (%), dtype: float64"
      ]
     },
     "execution_count": 81,
     "metadata": {},
     "output_type": "execute_result"
    }
   ],
   "source": [
    "df = data.groupby('5G Capability')['Market Share (%)'].mean()\n",
    "df"
   ]
  },
  {
   "cell_type": "code",
   "execution_count": 92,
   "id": "dbda378d-7ef7-4bcd-9f65-0438c0a0023e",
   "metadata": {},
   "outputs": [
    {
     "data": {
      "image/png": "[encoded data removed]",
      "text/plain": [
       "<Figure size 640x480 with 1 Axes>"
      ]
     },
     "metadata": {},
     "output_type": "display_data"
    }
   ],
   "source": [
    "plt.pie(df, labels = ['No', 'Yes'])\n",
    "plt.title(\"5G Capability with Market Share\")\n",
    "plt.legend()\n",
    "plt.show()"
   ]
  }
 ],
 "metadata": {
  "kernelspec": {
   "display_name": "Python 3 (ipykernel)",
   "language": "python",
   "name": "python3"
  },
  "language_info": {
   "codemirror_mode": {
    "name": "ipython",
    "version": 3
   },
   "file_extension": ".py",
   "mimetype": "text/x-python",
   "name": "python",
   "nbconvert_exporter": "python",
   "pygments_lexer": "ipython3",
   "version": "3.11.7"
  },
  "widgets": {
   "application/vnd.jupyter.widget-state+json": {
    "state": {},
    "version_major": 2,
    "version_minor": 0
   }
  }
 },
 "nbformat": 4,
 "nbformat_minor": 5
}
